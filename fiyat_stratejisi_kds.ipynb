{
 "cells": [
  {
   "cell_type": "markdown",
   "id": "077dc9b4-6232-4c8d-b762-3cf3416f5c87",
   "metadata": {},
   "source": [
    "# PROPBLEM\n"
   ]
  },
  {
   "cell_type": "markdown",
   "id": "d3bb2bfc-dd25-42c6-9d29-9603cfe12f9d",
   "metadata": {},
   "source": [
    "## CEO fiyat belirleme konusunda bilimsel bir dayanak ve esneklik isteniyor"
   ]
  },
  {
   "cell_type": "markdown",
   "id": "81fe9430-b0ff-4cb6-a91f-e110e0dc5f15",
   "metadata": {},
   "source": [
    " * **Satıcı, alıcı ve ürün var**\n",
    "* **Alıcılara ürüne ne kadar para öderdiniz diye soruluyor**\n",
    "* **Optimum fiyat bilimsel ve esnek olarak bulunmak isteniyor**\n",
    "\n"
   ]
  },
  {
   "cell_type": "code",
   "execution_count": 2,
   "id": "91e24fc3-fbb3-4dcc-bcf2-4f883bc11bfc",
   "metadata": {},
   "outputs": [],
   "source": [
    "import numpy as np\n",
    "import statsmodels.stats.api as sms "
   ]
  },
  {
   "cell_type": "code",
   "execution_count": 6,
   "id": "d095b040-3694-43da-9c38-39a4bf170a17",
   "metadata": {},
   "outputs": [
    {
     "data": {
      "text/plain": [
       "array([112, 109, 145, 116])"
      ]
     },
     "execution_count": 6,
     "metadata": {},
     "output_type": "execute_result"
    }
   ],
   "source": [
    "prices= np.random .randint(100,200,10000) \n",
    "prices[:4]"
   ]
  },
  {
   "cell_type": "code",
   "execution_count": 7,
   "id": "585a11ef-a104-450a-aed7-41cb6ce1f626",
   "metadata": {},
   "outputs": [
    {
     "data": {
      "text/plain": [
       "149.8889"
      ]
     },
     "execution_count": 7,
     "metadata": {},
     "output_type": "execute_result"
    }
   ],
   "source": [
    "prices.mean()"
   ]
  },
  {
   "cell_type": "markdown",
   "id": "e95d6b49-b31d-43f9-8562-28c578bd44d0",
   "metadata": {},
   "source": [
    "**_Alıcılar %95 güvenilirlik ile ürüne (149.3230189574605, 150.4547810425395) aralığında ücret vermeyi göze alacaktır._**"
   ]
  },
  {
   "cell_type": "code",
   "execution_count": 8,
   "id": "c5e8a858-fea6-463a-8a3d-002540230b6c",
   "metadata": {},
   "outputs": [
    {
     "data": {
      "text/plain": [
       "(149.3230189574605, 150.4547810425395)"
      ]
     },
     "execution_count": 8,
     "metadata": {},
     "output_type": "execute_result"
    }
   ],
   "source": [
    "sms.DescrStatsW(prices).tconfint_mean()"
   ]
  }
 ],
 "metadata": {
  "kernelspec": {
   "display_name": "Python 3 (ipykernel)",
   "language": "python",
   "name": "python3"
  },
  "language_info": {
   "codemirror_mode": {
    "name": "ipython",
    "version": 3
   },
   "file_extension": ".py",
   "mimetype": "text/x-python",
   "name": "python",
   "nbconvert_exporter": "python",
   "pygments_lexer": "ipython3",
   "version": "3.11.7"
  }
 },
 "nbformat": 4,
 "nbformat_minor": 5
}
