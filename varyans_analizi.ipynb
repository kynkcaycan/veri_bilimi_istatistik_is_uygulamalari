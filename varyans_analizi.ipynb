{
 "cells": [
  {
   "cell_type": "markdown",
   "id": "5e2b206b-1a63-4999-a5ef-9ad08fe4a064",
   "metadata": {},
   "source": [
    "# PROBLEM"
   ]
  },
  {
   "cell_type": "markdown",
   "id": "e712214d-2123-40a7-8126-6cadeb12ec83",
   "metadata": {},
   "source": [
    "## Anasayfa'da geçirilen süreyi arttırmak."
   ]
  },
  {
   "cell_type": "markdown",
   "id": "7e77814e-4279-463c-8cb4-aeb6cc9bb513",
   "metadata": {},
   "source": [
    "* Bir web sitesi için başarı kriterleri: ortalama ziyaret süresi, hemen çıkış oranı vb.\n",
    "* Uzun zaman geçiren kullanıcıların reklamlara daha fazla tıkladığı ve karkaya olan bağlılıklarının arttığı biliniyor.\n",
    "* Buna yönelik olarak benzer haberler farklı resimler ya da farklı formatlarda hazırlanarak oluşturulan test gruplarına gösteriliyor.\n",
    "* A: DOĞAL, B: YÖNLENDİRİCİ, C:İLGİ ÇEKİCİ"
   ]
  },
  {
   "cell_type": "code",
   "execution_count": 1,
   "id": "c67c1a18-4769-428b-a61b-d8a94958deb2",
   "metadata": {},
   "outputs": [],
   "source": [
    "import pandas as pd\n",
    "A = pd.DataFrame([28,33,30,29,28,29,27,31,30,32,28,33,25,29,27,31,31,30,31,34,30,32,31,34,28,32,31,28,33,29])\n",
    "B = pd.DataFrame([31,32,30,30,33,32,34,27,36,30,31,30,38,29,30,34,34,31,35,35,33,30,28,29,26,37,31,28,34,33])\n",
    "C = pd.DataFrame([40,33,38,41,42,43,38,35,39,39,36,34,35,40,38,36,39,36,33,35,38,35,40,40,39,38,38,43,40,42])"
   ]
  },
  {
   "cell_type": "code",
   "execution_count": 11,
   "id": "c491c208-26eb-4b5b-b17d-623052109417",
   "metadata": {},
   "outputs": [
    {
     "data": {
      "text/html": [
       "<div>\n",
       "<style scoped>\n",
       "    .dataframe tbody tr th:only-of-type {\n",
       "        vertical-align: middle;\n",
       "    }\n",
       "\n",
       "    .dataframe tbody tr th {\n",
       "        vertical-align: top;\n",
       "    }\n",
       "\n",
       "    .dataframe thead th {\n",
       "        text-align: right;\n",
       "    }\n",
       "</style>\n",
       "<table border=\"1\" class=\"dataframe\">\n",
       "  <thead>\n",
       "    <tr style=\"text-align: right;\">\n",
       "      <th></th>\n",
       "      <th>grup_a</th>\n",
       "      <th>grup_b</th>\n",
       "      <th>grup_c</th>\n",
       "    </tr>\n",
       "  </thead>\n",
       "  <tbody>\n",
       "    <tr>\n",
       "      <th>0</th>\n",
       "      <td>28</td>\n",
       "      <td>31</td>\n",
       "      <td>40</td>\n",
       "    </tr>\n",
       "    <tr>\n",
       "      <th>1</th>\n",
       "      <td>33</td>\n",
       "      <td>32</td>\n",
       "      <td>33</td>\n",
       "    </tr>\n",
       "    <tr>\n",
       "      <th>2</th>\n",
       "      <td>30</td>\n",
       "      <td>30</td>\n",
       "      <td>38</td>\n",
       "    </tr>\n",
       "    <tr>\n",
       "      <th>3</th>\n",
       "      <td>29</td>\n",
       "      <td>30</td>\n",
       "      <td>41</td>\n",
       "    </tr>\n",
       "    <tr>\n",
       "      <th>4</th>\n",
       "      <td>28</td>\n",
       "      <td>33</td>\n",
       "      <td>42</td>\n",
       "    </tr>\n",
       "  </tbody>\n",
       "</table>\n",
       "</div>"
      ],
      "text/plain": [
       "   grup_a  grup_b  grup_c\n",
       "0      28      31      40\n",
       "1      33      32      33\n",
       "2      30      30      38\n",
       "3      29      30      41\n",
       "4      28      33      42"
      ]
     },
     "execution_count": 11,
     "metadata": {},
     "output_type": "execute_result"
    }
   ],
   "source": [
    "dfs=[A,B,C]\n",
    "abc=pd.concat(dfs,axis=1)\n",
    "abc.columns=[\"grup_a\",\"grup_b\",\"grup_c\"]\n",
    "abc.head()\n",
    "\n"
   ]
  },
  {
   "cell_type": "markdown",
   "id": "3908ed20-002c-45d0-95aa-5014532179d4",
   "metadata": {},
   "source": [
    "## Varsayım Kontrolü\n",
    "            1.Normallik\n",
    "            2.Varyans Homojenliği"
   ]
  },
  {
   "cell_type": "code",
   "execution_count": 22,
   "id": "900af931-b9ac-4cac-b1bc-8bfdcff44591",
   "metadata": {},
   "outputs": [],
   "source": [
    "from scipy.stats import shapiro\n",
    "from scipy import stats"
   ]
  },
  {
   "cell_type": "code",
   "execution_count": 23,
   "id": "66f7bca2-50f4-4f5b-94a1-0b0d048b31c7",
   "metadata": {},
   "outputs": [
    {
     "data": {
      "text/plain": [
       "ShapiroResult(statistic=0.969743013381958, pvalue=0.5321670174598694)"
      ]
     },
     "execution_count": 23,
     "metadata": {},
     "output_type": "execute_result"
    }
   ],
   "source": [
    "shapiro(abc[\"grup_a\"])"
   ]
  },
  {
   "cell_type": "code",
   "execution_count": 24,
   "id": "c7b44504-ea22-4019-8aae-937928e166fb",
   "metadata": {},
   "outputs": [
    {
     "data": {
      "text/plain": [
       "ShapiroResult(statistic=0.9789853096008301, pvalue=0.7979751229286194)"
      ]
     },
     "execution_count": 24,
     "metadata": {},
     "output_type": "execute_result"
    }
   ],
   "source": [
    "shapiro(abc[\"grup_b\"])"
   ]
  },
  {
   "cell_type": "code",
   "execution_count": 25,
   "id": "6bb270c1-aaba-4856-b944-9f41feaaf717",
   "metadata": {},
   "outputs": [
    {
     "data": {
      "text/plain": [
       "ShapiroResult(statistic=0.9579201340675354, pvalue=0.273820161819458)"
      ]
     },
     "execution_count": 25,
     "metadata": {},
     "output_type": "execute_result"
    }
   ],
   "source": [
    "shapiro(abc[\"grup_c\"])"
   ]
  },
  {
   "cell_type": "code",
   "execution_count": 28,
   "id": "5883a2c3-cc37-4f22-81b6-f2c57e2e9ec7",
   "metadata": {},
   "outputs": [
    {
     "data": {
      "text/plain": [
       "LeveneResult(statistic=1.0267403645055275, pvalue=0.36247110117417064)"
      ]
     },
     "execution_count": 28,
     "metadata": {},
     "output_type": "execute_result"
    }
   ],
   "source": [
    "stats.levene(abc[\"grup_a\"],abc[\"grup_b\"],abc[\"grup_c\"])"
   ]
  },
  {
   "cell_type": "markdown",
   "id": "ebfb2932-ccc3-45aa-aeb2-39e8163eb188",
   "metadata": {},
   "source": [
    "## Hipotez Testi"
   ]
  },
  {
   "cell_type": "code",
   "execution_count": 29,
   "id": "9de45809-5f20-4fcc-aa6f-e276022a1d95",
   "metadata": {},
   "outputs": [],
   "source": [
    "from scipy.stats import f_oneway"
   ]
  },
  {
   "cell_type": "code",
   "execution_count": 42,
   "id": "55f3c664-7555-49e1-be43-ae6882bd6bf1",
   "metadata": {},
   "outputs": [],
   "source": [
    "istatistic,pvalue=f_oneway(abc[\"grup_a\"],abc[\"grup_b\"],abc[\"grup_c\"])"
   ]
  },
  {
   "cell_type": "code",
   "execution_count": 44,
   "id": "1c7927b1-28b1-4c80-af10-adc7b9342739",
   "metadata": {},
   "outputs": [
    {
     "name": "stdout",
     "output_type": "stream",
     "text": [
      "p-value= 0.0000000000000000001307905   \n",
      "istatistic= 74.6928\n"
     ]
    }
   ],
   "source": [
    "\n",
    "print(\"p-value= %.25f   \\nistatistic= %.4f\" %(pvalue,istatistic))"
   ]
  },
  {
   "cell_type": "markdown",
   "id": "ece1948e-d4e1-4e7b-81bf-af2a1d873cbf",
   "metadata": {},
   "source": [
    "**H0 reddedilir gruplar arasında anlamlı bir farklılık vardır.**"
   ]
  },
  {
   "cell_type": "markdown",
   "id": "47b8bc68-d30a-4acf-9b69-b1782c3ac943",
   "metadata": {},
   "source": [
    "## Nonparametrik Hipotez Testi\n",
    "**(Varsayımlar sağlanmaz ise kullanılır)**"
   ]
  },
  {
   "cell_type": "code",
   "execution_count": 48,
   "id": "c1156c4e-1e70-45f7-8971-b713de8110e2",
   "metadata": {},
   "outputs": [],
   "source": [
    "from scipy.stats import kruskal"
   ]
  },
  {
   "cell_type": "code",
   "execution_count": 49,
   "id": "4be537fa-ca94-4316-afd3-cd4f66a96b07",
   "metadata": {},
   "outputs": [
    {
     "data": {
      "text/plain": [
       "KruskalResult(statistic=54.19819735523783, pvalue=1.7022015426175926e-12)"
      ]
     },
     "execution_count": 49,
     "metadata": {},
     "output_type": "execute_result"
    }
   ],
   "source": [
    "kruskal(abc[\"grup_a\"],abc[\"grup_b\"],abc[\"grup_c\"])"
   ]
  }
 ],
 "metadata": {
  "kernelspec": {
   "display_name": "Python 3 (ipykernel)",
   "language": "python",
   "name": "python3"
  },
  "language_info": {
   "codemirror_mode": {
    "name": "ipython",
    "version": 3
   },
   "file_extension": ".py",
   "mimetype": "text/x-python",
   "name": "python",
   "nbconvert_exporter": "python",
   "pygments_lexer": "ipython3",
   "version": "3.11.7"
  }
 },
 "nbformat": 4,
 "nbformat_minor": 5
}
