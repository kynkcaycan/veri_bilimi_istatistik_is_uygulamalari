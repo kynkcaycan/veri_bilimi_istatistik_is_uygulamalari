{
 "cells": [
  {
   "cell_type": "markdown",
   "id": "3a52cae9-57fa-4bb0-a22d-d19c113eb5a3",
   "metadata": {},
   "source": [
    "# PROBLEM"
   ]
  },
  {
   "cell_type": "markdown",
   "id": "edd7dc78-b699-40ab-bc67-7258945d55cd",
   "metadata": {},
   "source": [
    "## Belirli uğraşlar sonucunda alınan bir eğitimin katma değer sağlayıp sağlamadığı ölçülmek isteniyor"
   ]
  },
  {
   "cell_type": "markdown",
   "id": "522c4f2b-b254-4bf1-b487-0bba67886e53",
   "metadata": {},
   "source": [
    "* Bir departman bir konuda eğitim talep ediyor.\n",
    "* Gerekli/gereksiz değerlendirmeleri neticesinde eğitim alınıyor\n",
    "* Eğitimden önce ve sonra olacak şekilde gerekli ölçümler yapılıyor.\n",
    "* Eğitim sonrasında eğitimin sağladığı katma değer test edilmek isteniyor."
   ]
  },
  {
   "cell_type": "code",
   "execution_count": 2,
   "id": "82b259a6-e2ba-41cb-a760-e5b86b6038e4",
   "metadata": {},
   "outputs": [],
   "source": [
    "import pandas as pd\n",
    "oncesi = pd.DataFrame([123,119,119,116,123,123,121,120,117,118,121,121,123,119,\n",
    "                121,118,124,121,125,115,115,119,118,121,117,117,120,120,\n",
    "               121,117,118,117,123,118,124,121,115,118,125,115])\n",
    "   \n",
    "sonrasi = pd.DataFrame([118,127,122,132,129,123,129,132,128,130,128,138,140,130,\n",
    "                 134,134,124,140,134,129,129,138,134,124,122,126,133,127,\n",
    "                130,130,130,132,117,130,125,129,133,120,127,123])\n",
    "   "
   ]
  },
  {
   "cell_type": "code",
   "execution_count": 4,
   "id": "5b893acb-baac-4e99-961c-89a03928ffba",
   "metadata": {},
   "outputs": [
    {
     "data": {
      "text/html": [
       "<div>\n",
       "<style scoped>\n",
       "    .dataframe tbody tr th:only-of-type {\n",
       "        vertical-align: middle;\n",
       "    }\n",
       "\n",
       "    .dataframe tbody tr th {\n",
       "        vertical-align: top;\n",
       "    }\n",
       "\n",
       "    .dataframe thead th {\n",
       "        text-align: right;\n",
       "    }\n",
       "</style>\n",
       "<table border=\"1\" class=\"dataframe\">\n",
       "  <thead>\n",
       "    <tr style=\"text-align: right;\">\n",
       "      <th></th>\n",
       "      <th>0</th>\n",
       "    </tr>\n",
       "  </thead>\n",
       "  <tbody>\n",
       "    <tr>\n",
       "      <th>0</th>\n",
       "      <td>123</td>\n",
       "    </tr>\n",
       "    <tr>\n",
       "      <th>1</th>\n",
       "      <td>119</td>\n",
       "    </tr>\n",
       "    <tr>\n",
       "      <th>2</th>\n",
       "      <td>119</td>\n",
       "    </tr>\n",
       "    <tr>\n",
       "      <th>3</th>\n",
       "      <td>116</td>\n",
       "    </tr>\n",
       "  </tbody>\n",
       "</table>\n",
       "</div>"
      ],
      "text/plain": [
       "     0\n",
       "0  123\n",
       "1  119\n",
       "2  119\n",
       "3  116"
      ]
     },
     "execution_count": 4,
     "metadata": {},
     "output_type": "execute_result"
    }
   ],
   "source": [
    "oncesi[:4]"
   ]
  },
  {
   "cell_type": "code",
   "execution_count": 6,
   "id": "be4bfb7b-4c22-4847-b100-57c4a60684ee",
   "metadata": {},
   "outputs": [
    {
     "data": {
      "text/html": [
       "<div>\n",
       "<style scoped>\n",
       "    .dataframe tbody tr th:only-of-type {\n",
       "        vertical-align: middle;\n",
       "    }\n",
       "\n",
       "    .dataframe tbody tr th {\n",
       "        vertical-align: top;\n",
       "    }\n",
       "\n",
       "    .dataframe thead th {\n",
       "        text-align: right;\n",
       "    }\n",
       "</style>\n",
       "<table border=\"1\" class=\"dataframe\">\n",
       "  <thead>\n",
       "    <tr style=\"text-align: right;\">\n",
       "      <th></th>\n",
       "      <th>0</th>\n",
       "    </tr>\n",
       "  </thead>\n",
       "  <tbody>\n",
       "    <tr>\n",
       "      <th>0</th>\n",
       "      <td>118</td>\n",
       "    </tr>\n",
       "    <tr>\n",
       "      <th>1</th>\n",
       "      <td>127</td>\n",
       "    </tr>\n",
       "    <tr>\n",
       "      <th>2</th>\n",
       "      <td>122</td>\n",
       "    </tr>\n",
       "    <tr>\n",
       "      <th>3</th>\n",
       "      <td>132</td>\n",
       "    </tr>\n",
       "  </tbody>\n",
       "</table>\n",
       "</div>"
      ],
      "text/plain": [
       "     0\n",
       "0  118\n",
       "1  127\n",
       "2  122\n",
       "3  132"
      ]
     },
     "execution_count": 6,
     "metadata": {},
     "output_type": "execute_result"
    }
   ],
   "source": [
    "sonrasi[:4]"
   ]
  },
  {
   "cell_type": "code",
   "execution_count": 8,
   "id": "44a118ea-0950-41fd-8c12-4d6dddae23af",
   "metadata": {},
   "outputs": [
    {
     "data": {
      "text/html": [
       "<div>\n",
       "<style scoped>\n",
       "    .dataframe tbody tr th:only-of-type {\n",
       "        vertical-align: middle;\n",
       "    }\n",
       "\n",
       "    .dataframe tbody tr th {\n",
       "        vertical-align: top;\n",
       "    }\n",
       "\n",
       "    .dataframe thead th {\n",
       "        text-align: right;\n",
       "    }\n",
       "</style>\n",
       "<table border=\"1\" class=\"dataframe\">\n",
       "  <thead>\n",
       "    <tr style=\"text-align: right;\">\n",
       "      <th></th>\n",
       "      <th>oncesi</th>\n",
       "      <th>sonrasi</th>\n",
       "    </tr>\n",
       "  </thead>\n",
       "  <tbody>\n",
       "    <tr>\n",
       "      <th>0</th>\n",
       "      <td>123</td>\n",
       "      <td>118</td>\n",
       "    </tr>\n",
       "    <tr>\n",
       "      <th>1</th>\n",
       "      <td>119</td>\n",
       "      <td>127</td>\n",
       "    </tr>\n",
       "    <tr>\n",
       "      <th>2</th>\n",
       "      <td>119</td>\n",
       "      <td>122</td>\n",
       "    </tr>\n",
       "    <tr>\n",
       "      <th>3</th>\n",
       "      <td>116</td>\n",
       "      <td>132</td>\n",
       "    </tr>\n",
       "    <tr>\n",
       "      <th>4</th>\n",
       "      <td>123</td>\n",
       "      <td>129</td>\n",
       "    </tr>\n",
       "  </tbody>\n",
       "</table>\n",
       "</div>"
      ],
      "text/plain": [
       "   oncesi  sonrasi\n",
       "0     123      118\n",
       "1     119      127\n",
       "2     119      122\n",
       "3     116      132\n",
       "4     123      129"
      ]
     },
     "execution_count": 8,
     "metadata": {},
     "output_type": "execute_result"
    }
   ],
   "source": [
    "#veri seti ayrık\n",
    "ayrik=pd.concat([oncesi,sonrasi],axis=1)\n",
    "ayrik.columns=[\"oncesi\",\"sonrasi\"]\n",
    "ayrik.head()"
   ]
  },
  {
   "cell_type": "code",
   "execution_count": 10,
   "id": "c14bb603-6151-42ee-b1ee-e7aeb417386a",
   "metadata": {},
   "outputs": [],
   "source": [
    "#veri seti birleşik\n",
    "import numpy as np\n",
    "\n",
    "grup_oncesi=np.arange(len(oncesi))\n",
    "grup_oncesi=pd.DataFrame(grup_oncesi)\n",
    "grup_oncesi[:]=\"oncesi\"\n",
    "\n",
    "a=pd.concat([oncesi,grup_oncesi],axis=1)\n",
    "\n",
    "\n"
   ]
  },
  {
   "cell_type": "code",
   "execution_count": 11,
   "id": "1c91ec17-e3ed-4609-8d4f-d8d9c794f72a",
   "metadata": {},
   "outputs": [],
   "source": [
    "grup_sonrasi=np.arange(len(sonrasi))\n",
    "grup_sonrasi=pd.DataFrame(grup_sonrasi)\n",
    "grup_sonrasi[:]=\"sonrasi\"\n",
    "\n",
    "b=pd.concat([sonrasi,grup_sonrasi],axis=1)"
   ]
  },
  {
   "cell_type": "code",
   "execution_count": 13,
   "id": "5ae62a97-afad-4aee-806f-f366c3913de2",
   "metadata": {},
   "outputs": [
    {
     "data": {
      "text/html": [
       "<div>\n",
       "<style scoped>\n",
       "    .dataframe tbody tr th:only-of-type {\n",
       "        vertical-align: middle;\n",
       "    }\n",
       "\n",
       "    .dataframe tbody tr th {\n",
       "        vertical-align: top;\n",
       "    }\n",
       "\n",
       "    .dataframe thead th {\n",
       "        text-align: right;\n",
       "    }\n",
       "</style>\n",
       "<table border=\"1\" class=\"dataframe\">\n",
       "  <thead>\n",
       "    <tr style=\"text-align: right;\">\n",
       "      <th></th>\n",
       "      <th>performans</th>\n",
       "      <th>oncesi_sonrasi</th>\n",
       "    </tr>\n",
       "  </thead>\n",
       "  <tbody>\n",
       "    <tr>\n",
       "      <th>0</th>\n",
       "      <td>123</td>\n",
       "      <td>oncesi</td>\n",
       "    </tr>\n",
       "    <tr>\n",
       "      <th>1</th>\n",
       "      <td>119</td>\n",
       "      <td>oncesi</td>\n",
       "    </tr>\n",
       "    <tr>\n",
       "      <th>2</th>\n",
       "      <td>119</td>\n",
       "      <td>oncesi</td>\n",
       "    </tr>\n",
       "    <tr>\n",
       "      <th>3</th>\n",
       "      <td>116</td>\n",
       "      <td>oncesi</td>\n",
       "    </tr>\n",
       "    <tr>\n",
       "      <th>4</th>\n",
       "      <td>123</td>\n",
       "      <td>oncesi</td>\n",
       "    </tr>\n",
       "    <tr>\n",
       "      <th>...</th>\n",
       "      <td>...</td>\n",
       "      <td>...</td>\n",
       "    </tr>\n",
       "    <tr>\n",
       "      <th>35</th>\n",
       "      <td>129</td>\n",
       "      <td>sonrasi</td>\n",
       "    </tr>\n",
       "    <tr>\n",
       "      <th>36</th>\n",
       "      <td>133</td>\n",
       "      <td>sonrasi</td>\n",
       "    </tr>\n",
       "    <tr>\n",
       "      <th>37</th>\n",
       "      <td>120</td>\n",
       "      <td>sonrasi</td>\n",
       "    </tr>\n",
       "    <tr>\n",
       "      <th>38</th>\n",
       "      <td>127</td>\n",
       "      <td>sonrasi</td>\n",
       "    </tr>\n",
       "    <tr>\n",
       "      <th>39</th>\n",
       "      <td>123</td>\n",
       "      <td>sonrasi</td>\n",
       "    </tr>\n",
       "  </tbody>\n",
       "</table>\n",
       "<p>80 rows × 2 columns</p>\n",
       "</div>"
      ],
      "text/plain": [
       "    performans oncesi_sonrasi\n",
       "0          123         oncesi\n",
       "1          119         oncesi\n",
       "2          119         oncesi\n",
       "3          116         oncesi\n",
       "4          123         oncesi\n",
       "..         ...            ...\n",
       "35         129        sonrasi\n",
       "36         133        sonrasi\n",
       "37         120        sonrasi\n",
       "38         127        sonrasi\n",
       "39         123        sonrasi\n",
       "\n",
       "[80 rows x 2 columns]"
      ]
     },
     "execution_count": 13,
     "metadata": {},
     "output_type": "execute_result"
    }
   ],
   "source": [
    "birlikte=pd.concat([a,b])\n",
    "birlikte.columns=[\"performans\",\"oncesi_sonrasi\"]\n",
    "birlikte"
   ]
  },
  {
   "cell_type": "code",
   "execution_count": 14,
   "id": "58cb7e8c-c5b7-44c3-9236-e52371c57f90",
   "metadata": {},
   "outputs": [
    {
     "data": {
      "image/png": "[encoded data removed]",
      "text/plain": [
       "<Figure size 640x480 with 1 Axes>"
      ]
     },
     "metadata": {},
     "output_type": "display_data"
    }
   ],
   "source": [
    "import seaborn as sns\n",
    "sns.boxplot(x=\"oncesi_sonrasi\",y=\"performans\",data=birlikte);"
   ]
  },
  {
   "cell_type": "markdown",
   "id": "baa85e63-9397-43bb-9083-9c3b81cdc908",
   "metadata": {},
   "source": [
    "# Varsayım Kontrolleri\n",
    "* Normallik \n",
    "* Varyans Homojenliği\n"
   ]
  },
  {
   "cell_type": "code",
   "execution_count": 34,
   "id": "33352527-844f-49e7-a79b-eb9b2a31a2f5",
   "metadata": {},
   "outputs": [],
   "source": [
    "from scipy.stats import shapiro\n",
    "from scipy import stats"
   ]
  },
  {
   "cell_type": "code",
   "execution_count": 35,
   "id": "7385c2f0-1ddf-4ab6-9cbe-d0921e94b364",
   "metadata": {},
   "outputs": [
    {
     "data": {
      "text/plain": [
       "ShapiroResult(statistic=0.9543651342391968, pvalue=0.10722016543149948)"
      ]
     },
     "execution_count": 35,
     "metadata": {},
     "output_type": "execute_result"
    }
   ],
   "source": [
    "shapiro(ayrik.oncesi)"
   ]
  },
  {
   "cell_type": "code",
   "execution_count": 36,
   "id": "272a381b-74b1-47b0-9cba-453d2e233231",
   "metadata": {},
   "outputs": [
    {
     "data": {
      "text/plain": [
       "ShapiroResult(statistic=0.9780092239379883, pvalue=0.6159630417823792)"
      ]
     },
     "execution_count": 36,
     "metadata": {},
     "output_type": "execute_result"
    }
   ],
   "source": [
    "shapiro(ayrik.sonrasi)"
   ]
  },
  {
   "cell_type": "code",
   "execution_count": 37,
   "id": "6870578a-4c8d-4f18-877e-cd0a2b1ba873",
   "metadata": {},
   "outputs": [
    {
     "data": {
      "text/plain": [
       "LeveneResult(statistic=8.31303288672351, pvalue=0.0050844511807370246)"
      ]
     },
     "execution_count": 37,
     "metadata": {},
     "output_type": "execute_result"
    }
   ],
   "source": [
    "stats.levene(ayrik.oncesi,ayrik.sonrasi)"
   ]
  },
  {
   "cell_type": "markdown",
   "id": "e6970813-3544-4af8-bddb-dc39ff37b64b",
   "metadata": {},
   "source": [
    "varyansların homojenliği sağlanmıyor fakat göz ardı ederek devam edicez."
   ]
  },
  {
   "cell_type": "markdown",
   "id": "09ef030e-62c2-4d6d-90cf-d3d234330a30",
   "metadata": {},
   "source": [
    "## Hipotez Testi\n",
    "* H0: μ1=μ2\n",
    "\n",
    "* H1: μ1!=μ2"
   ]
  },
  {
   "cell_type": "code",
   "execution_count": 38,
   "id": "1a676a36-cb7f-4a5a-8a3b-cada24abdde5",
   "metadata": {},
   "outputs": [],
   "source": [
    "test_istatistigi,pvalue=stats.ttest_rel(ayrik.oncesi,ayrik.sonrasi)"
   ]
  },
  {
   "cell_type": "code",
   "execution_count": 39,
   "id": "fe5872e1-b2ed-4d2a-a63b-135221a65239",
   "metadata": {},
   "outputs": [
    {
     "name": "stdout",
     "output_type": "stream",
     "text": [
      "Test istatistiği = -9.2815 \n",
      "p-value= 0.000000000020\n"
     ]
    }
   ],
   "source": [
    "print(\"Test istatistiği = %.4f \\np-value= %.12f\" %(test_istatistigi,pvalue))"
   ]
  },
  {
   "cell_type": "markdown",
   "id": "228f68d4-072f-4b82-9cdf-1cfed78d976f",
   "metadata": {},
   "source": [
    "**H0 hipotezi reddedilir yani eğitim işe yaramıştır.**"
   ]
  },
  {
   "cell_type": "markdown",
   "id": "9cf8f384-89ae-4d5b-8c37-d651fd67968d",
   "metadata": {},
   "source": [
    "## Nonparametrik Bağımlı İki Örneklem Testi"
   ]
  },
  {
   "cell_type": "code",
   "execution_count": 45,
   "id": "76e8df8a-c8bb-44d4-bab0-6c2e5a88759f",
   "metadata": {},
   "outputs": [],
   "source": [
    "import warnings\n",
    "warnings.filterwarnings(\"ignore\", message=\"Exact p-value calculation does not work if there are zeros. Switching to normal approximation.\")\n",
    "istatistic,pvalue_=stats.wilcoxon(ayrik.oncesi,ayrik.sonrasi)"
   ]
  },
  {
   "cell_type": "code",
   "execution_count": 46,
   "id": "8c309d2f-4eca-4a2f-a6a0-c25343ad8f19",
   "metadata": {},
   "outputs": [
    {
     "name": "stdout",
     "output_type": "stream",
     "text": [
      "Test istatistiği = 15.0000 \n",
      "p-value= 0.000000249149\n"
     ]
    }
   ],
   "source": [
    "print(\"Test istatistiği = %.4f \\np-value= %.12f\" %(istatistic,pvalue_))"
   ]
  },
  {
   "cell_type": "markdown",
   "id": "405ce784-ad23-46ac-b150-f81b7635b57a",
   "metadata": {},
   "source": [
    "**Nonparametrik yaklaşımla da anlamlı bir fark vardır sonucuna varılmıştır.**"
   ]
  }
 ],
 "metadata": {
  "kernelspec": {
   "display_name": "Python 3 (ipykernel)",
   "language": "python",
   "name": "python3"
  },
  "language_info": {
   "codemirror_mode": {
    "name": "ipython",
    "version": 3
   },
   "file_extension": ".py",
   "mimetype": "text/x-python",
   "name": "python",
   "nbconvert_exporter": "python",
   "pygments_lexer": "ipython3",
   "version": "3.11.7"
  }
 },
 "nbformat": 4,
 "nbformat_minor": 5
}
