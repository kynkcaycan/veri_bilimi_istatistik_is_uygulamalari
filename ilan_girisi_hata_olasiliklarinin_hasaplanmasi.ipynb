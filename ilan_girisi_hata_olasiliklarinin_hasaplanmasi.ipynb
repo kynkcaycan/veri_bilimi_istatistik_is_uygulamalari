{
 "cells": [
  {
   "cell_type": "markdown",
   "id": "401b1b86-2385-480c-a5bf-d1fbce72bf5b",
   "metadata": {},
   "source": [
    "# PROBLEM"
   ]
  },
  {
   "cell_type": "markdown",
   "id": "421a975c-3660-4872-9f6c-cc78648712e6",
   "metadata": {},
   "source": [
    "## Hatalı ilan girişi olasılıkları hesaplanmak isteniyor."
   ]
  },
  {
   "cell_type": "markdown",
   "id": "8472cf05-55b5-42c3-9306-51ffddb6cee7",
   "metadata": {},
   "source": [
    "* Bir yıl süre ile ölçüm yapılıyor\n",
    "* Dağılım biliniyor (poisson) Lambda 0.1 (ortalama hata sayısı)\n",
    "* Hiç hata olmaması, 3 hata olması ve 5 hata olması olasılıkları nedir?"
   ]
  },
  {
   "cell_type": "code",
   "execution_count": 1,
   "id": "ec0bacf0-5ffe-4ad3-b4de-58274ebee1e6",
   "metadata": {},
   "outputs": [],
   "source": [
    "from scipy.stats import poisson"
   ]
  },
  {
   "cell_type": "code",
   "execution_count": 2,
   "id": "5a90992a-5e24-4eac-a163-1ffb90fb0b08",
   "metadata": {},
   "outputs": [],
   "source": [
    "lambda1=0.1"
   ]
  },
  {
   "cell_type": "code",
   "execution_count": 5,
   "id": "7ca6cd88-0c4c-4382-8e4d-24aa2e5dcd6c",
   "metadata": {},
   "outputs": [
    {
     "name": "stdout",
     "output_type": "stream",
     "text": [
      "0.9048374180359595\n",
      "0.00015080623633932676\n",
      "7.54031181696634e-08\n"
     ]
    }
   ],
   "source": [
    "rv=poisson(mu=lambda1)\n",
    "#0,3 ya da 5 hata olma olasılıkları\n",
    "print(rv.pmf(k=0))\n",
    "print(rv.pmf(k=3))\n",
    "print(rv.pmf(k=5))"
   ]
  },
  {
   "cell_type": "code",
   "execution_count": null,
   "id": "9dc23ce6-251a-485f-b5a4-7ab9d6dd9af6",
   "metadata": {},
   "outputs": [],
   "source": []
  }
 ],
 "metadata": {
  "kernelspec": {
   "display_name": "Python 3 (ipykernel)",
   "language": "python",
   "name": "python3"
  },
  "language_info": {
   "codemirror_mode": {
    "name": "ipython",
    "version": 3
   },
   "file_extension": ".py",
   "mimetype": "text/x-python",
   "name": "python",
   "nbconvert_exporter": "python",
   "pygments_lexer": "ipython3",
   "version": "3.11.7"
  }
 },
 "nbformat": 4,
 "nbformat_minor": 5
}
