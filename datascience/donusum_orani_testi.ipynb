{
 "cells": [
  {
   "cell_type": "markdown",
   "id": "48bf1817-e954-4116-a54d-12310a56cbd0",
   "metadata": {},
   "source": [
    "# PROBLEM\n"
   ]
  },
  {
   "cell_type": "markdown",
   "id": "a80c8507-1a47-4049-ba02-a07632657a29",
   "metadata": {},
   "source": [
    "## Bir yazılım ile bir mecrada reklam verilmiş yazılım tarafından dönüşüm oranı 0.125 elde edilmiş. Fakat bu durumun kontrol edilmesi isteniyor. Çünkü bu bir yüksek oran ve gelirler incelendiğinde örtüşmüyor."
   ]
  },
  {
   "cell_type": "markdown",
   "id": "63ff1fda-4999-4ad3-8c30-79cb71a14f08",
   "metadata": {},
   "source": [
    "* 500 kişi dış mecrada reklama tıklamış, 40 tanesi siteye gelipalışveriş yapmış\n",
    "* Örnek üzerinden elde edlilen dönüşüm oranı: 40/500= 0,08"
   ]
  },
  {
   "cell_type": "markdown",
   "id": "54c3575d-200c-4362-a9d5-de342da19a66",
   "metadata": {},
   "source": [
    "## Tek Örneklem Oran Testi"
   ]
  },
  {
   "cell_type": "markdown",
   "id": "d2d16325-3c6f-4c29-bcb3-a09f853af046",
   "metadata": {},
   "source": [
    "H0: p=0.125\n",
    "\n",
    "\n",
    "H1: p!=0.125\n",
    "\n"
   ]
  },
  {
   "cell_type": "code",
   "execution_count": 1,
   "id": "a333d9fc-b9a9-44c3-add1-ed5c166188d8",
   "metadata": {},
   "outputs": [],
   "source": [
    "from statsmodels.stats.proportion import proportions_ztest"
   ]
  },
  {
   "cell_type": "code",
   "execution_count": 2,
   "id": "585d49fd-89d0-48a4-98ac-4d92550c3e37",
   "metadata": {},
   "outputs": [],
   "source": [
    "count =40\n",
    "nobs=500 \n",
    "value=0.125\n"
   ]
  },
  {
   "cell_type": "code",
   "execution_count": 3,
   "id": "a35190db-4fbe-4f44-9c01-ba6aaee819f7",
   "metadata": {},
   "outputs": [
    {
     "data": {
      "text/plain": [
       "(-3.7090151628513017, 0.0002080669689845979)"
      ]
     },
     "execution_count": 3,
     "metadata": {},
     "output_type": "execute_result"
    }
   ],
   "source": [
    "proportions_ztest(count,nobs,value)"
   ]
  },
  {
   "cell_type": "markdown",
   "id": "59307365-d2a5-4af9-99a8-d83b1eea4bf8",
   "metadata": {},
   "source": [
    " **pvalue değeri 0.05'ten küçük olduğundan H0 ın yanlış olduğu sonucuna varırız (0.95 güven oranı ile söylenmektedir.)**"
   ]
  }
 ],
 "metadata": {
  "kernelspec": {
   "display_name": "Python 3 (ipykernel)",
   "language": "python",
   "name": "python3"
  },
  "language_info": {
   "codemirror_mode": {
    "name": "ipython",
    "version": 3
   },
   "file_extension": ".py",
   "mimetype": "text/x-python",
   "name": "python",
   "nbconvert_exporter": "python",
   "pygments_lexer": "ipython3",
   "version": "3.11.7"
  }
 },
 "nbformat": 4,
 "nbformat_minor": 5
}
