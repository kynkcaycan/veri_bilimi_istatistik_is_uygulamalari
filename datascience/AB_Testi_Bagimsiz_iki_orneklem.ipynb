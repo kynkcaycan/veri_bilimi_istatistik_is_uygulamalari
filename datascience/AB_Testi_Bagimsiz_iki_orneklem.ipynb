{
 "cells": [
  {
   "cell_type": "markdown",
   "id": "19620a66-c291-4da1-901e-8415d2dc84ce",
   "metadata": {},
   "source": [
    "# PROBLEM"
   ]
  },
  {
   "cell_type": "markdown",
   "id": "0f26090d-9179-432a-a48d-606dc945ea4a",
   "metadata": {},
   "source": [
    "## Bir ML projesine yatırım yapılmış. Ürettiği tahminler neticesinde oluşan gelir ile eski ürettiği gelirler karşılaştırılıp anlamlı farklılık olup olmadığı test edilmek isteniyor."
   ]
  },
  {
   "cell_type": "markdown",
   "id": "e33c6669-628d-4922-89f6-0100ccc6ec68",
   "metadata": {},
   "source": [
    "* Model geliştirilmiş ve web sitesine entegre edilmiş\n",
    "* Site kullanıcıları belirli bir kurala göre ikiye bölünmüş\n",
    "* A grubu eski B Grubu yeni sitem.\n",
    "* Gelir anlamında anlamlı bir iş yapılıp yapılmadığı test edilmek isteniyor."
   ]
  },
  {
   "cell_type": "code",
   "execution_count": 3,
   "id": "80d7fbea-d556-497f-b480-e8fc0fde006a",
   "metadata": {},
   "outputs": [
    {
     "data": {
      "text/html": [
       "<div>\n",
       "<style scoped>\n",
       "    .dataframe tbody tr th:only-of-type {\n",
       "        vertical-align: middle;\n",
       "    }\n",
       "\n",
       "    .dataframe tbody tr th {\n",
       "        vertical-align: top;\n",
       "    }\n",
       "\n",
       "    .dataframe thead th {\n",
       "        text-align: right;\n",
       "    }\n",
       "</style>\n",
       "<table border=\"1\" class=\"dataframe\">\n",
       "  <thead>\n",
       "    <tr style=\"text-align: right;\">\n",
       "      <th></th>\n",
       "      <th>A</th>\n",
       "      <th>B</th>\n",
       "    </tr>\n",
       "  </thead>\n",
       "  <tbody>\n",
       "    <tr>\n",
       "      <th>0</th>\n",
       "      <td>30</td>\n",
       "      <td>37</td>\n",
       "    </tr>\n",
       "    <tr>\n",
       "      <th>1</th>\n",
       "      <td>27</td>\n",
       "      <td>39</td>\n",
       "    </tr>\n",
       "    <tr>\n",
       "      <th>2</th>\n",
       "      <td>21</td>\n",
       "      <td>31</td>\n",
       "    </tr>\n",
       "    <tr>\n",
       "      <th>3</th>\n",
       "      <td>27</td>\n",
       "      <td>31</td>\n",
       "    </tr>\n",
       "    <tr>\n",
       "      <th>4</th>\n",
       "      <td>29</td>\n",
       "      <td>34</td>\n",
       "    </tr>\n",
       "  </tbody>\n",
       "</table>\n",
       "</div>"
      ],
      "text/plain": [
       "    A   B\n",
       "0  30  37\n",
       "1  27  39\n",
       "2  21  31\n",
       "3  27  31\n",
       "4  29  34"
      ]
     },
     "execution_count": 3,
     "metadata": {},
     "output_type": "execute_result"
    }
   ],
   "source": [
    "import pandas as pd\n",
    "A = pd.DataFrame([30,27,21,27,29,30,20,20,27,32,35,22,24,23,25,27,23,27,23,\n",
    "            25,21,18,24,26,33,26,27,28,19,25])\n",
    "B = pd.DataFrame([37,39,31,31,34,38,30,36,29,28,38,28,37,37,30,32,31,31,27,\n",
    "         32,33,33,33,31,32,33,26,32,33,29])\n",
    "A_B = pd.concat([A, B], axis = 1)\n",
    "A_B.columns = [\"A\",\"B\"]\n",
    "A_B.head()"
   ]
  },
  {
   "cell_type": "markdown",
   "id": "a90f2f98-b302-4557-9691-4e544d407569",
   "metadata": {},
   "source": [
    "# Varsayım Kontrolü (Normallik)"
   ]
  },
  {
   "cell_type": "code",
   "execution_count": 11,
   "id": "373485c6-6d8b-4fc1-a6f8-258717454c20",
   "metadata": {},
   "outputs": [],
   "source": [
    "from scipy.stats import shapiro"
   ]
  },
  {
   "cell_type": "code",
   "execution_count": 12,
   "id": "d033edf6-7bcd-4a0c-b779-5f25ec2d4167",
   "metadata": {},
   "outputs": [
    {
     "data": {
      "text/plain": [
       "ShapiroResult(statistic=0.9789243936538696, pvalue=0.7962851524353027)"
      ]
     },
     "execution_count": 12,
     "metadata": {},
     "output_type": "execute_result"
    }
   ],
   "source": [
    "shapiro(A_B.A)"
   ]
  },
  {
   "cell_type": "code",
   "execution_count": 13,
   "id": "68b65ce8-5809-40f7-bd53-3d518c322b2b",
   "metadata": {},
   "outputs": [
    {
     "data": {
      "text/plain": [
       "ShapiroResult(statistic=0.9561262130737305, pvalue=0.24584470689296722)"
      ]
     },
     "execution_count": 13,
     "metadata": {},
     "output_type": "execute_result"
    }
   ],
   "source": [
    "shapiro(A_B.B)"
   ]
  },
  {
   "cell_type": "markdown",
   "id": "7fce4820-6e4d-4c2b-9199-1ee6b3a41fe4",
   "metadata": {},
   "source": [
    "**örnek dağılımlar ile teorik normal dağılımlar arasında fark yok ( pvalue>0.05)** "
   ]
  },
  {
   "cell_type": "markdown",
   "id": "3ebf865a-5fe5-4318-890d-8c80caaa3b89",
   "metadata": {},
   "source": [
    "## Varysans Homojenliği Varsayımı"
   ]
  },
  {
   "cell_type": "markdown",
   "id": "382f1add-3018-4207-8aad-b0316197d6e8",
   "metadata": {},
   "source": [
    "H0: Varyanslar homojen\n",
    "\n",
    "\n",
    "H1: Varyanslar homojen değil"
   ]
  },
  {
   "cell_type": "code",
   "execution_count": 17,
   "id": "373a7bd1-9740-4800-a776-ac513d1ae05c",
   "metadata": {},
   "outputs": [
    {
     "data": {
      "text/plain": [
       "LeveneResult(statistic=1.1101802757158004, pvalue=0.2964124900636569)"
      ]
     },
     "execution_count": 17,
     "metadata": {},
     "output_type": "execute_result"
    }
   ],
   "source": [
    "from scipy import stats\n",
    "stats.levene(A_B.A,A_B.B)"
   ]
  },
  {
   "cell_type": "markdown",
   "id": "920b5203-d2cc-4409-b925-af8a35da1763",
   "metadata": {},
   "source": [
    "**pvalue>0.05 yani H0 reddedilemez varyanslar homojendir.**"
   ]
  },
  {
   "cell_type": "markdown",
   "id": "8f225c29-9b66-43dd-8769-567a3e9f875e",
   "metadata": {},
   "source": [
    "## Hipotez Testi"
   ]
  },
  {
   "cell_type": "markdown",
   "id": "403e4cc3-df30-47b9-ac92-8b5344bbb0c7",
   "metadata": {},
   "source": [
    "H0: μ1=μ2\n",
    "\n",
    "H1: μ1!=μ2"
   ]
  },
  {
   "cell_type": "code",
   "execution_count": 39,
   "id": "98b0aed2-4dd1-44dd-be43-96de95ca7879",
   "metadata": {},
   "outputs": [],
   "source": [
    "test_istatistigi,pvalue=stats.ttest_ind(A_B[\"A\"],A_B[\"B\"],equal_var=True)\n",
    "#equal_var=true -----> varyanslar homejen\n"
   ]
  },
  {
   "cell_type": "code",
   "execution_count": 40,
   "id": "e302d42b-4e36-42d0-9206-29450052c88a",
   "metadata": {},
   "outputs": [
    {
     "name": "stdout",
     "output_type": "stream",
     "text": [
      "Test istatistiği = -7.0287 \n",
      "p-value= 0.000000002623\n"
     ]
    }
   ],
   "source": [
    "print(\"Test istatistiği = %.4f \\np-value= %.12f\" %(test_istatistigi,pvalue))"
   ]
  },
  {
   "cell_type": "markdown",
   "id": "417c25e3-0e06-40f1-9c24-44b0b7b47143",
   "metadata": {},
   "source": [
    "**Yeni sistemle eski sistem arasında anlamlı bir fark vardır ve bu fark yeni sistemin lehinedir.**"
   ]
  },
  {
   "cell_type": "markdown",
   "id": "947e4822-debf-4071-b80f-98d59b152551",
   "metadata": {},
   "source": [
    "## Nonparametrik Bağımsız İki Örneklem Testi"
   ]
  },
  {
   "cell_type": "code",
   "execution_count": 41,
   "id": "0ad24f45-1874-4b6a-94a6-2a6e1da7ba37",
   "metadata": {},
   "outputs": [],
   "source": [
    "istatistic,pvalue_=stats.mannwhitneyu(A_B[\"A\"],A_B[\"B\"])"
   ]
  },
  {
   "cell_type": "code",
   "execution_count": 42,
   "id": "0f5aaa81-382d-4cd7-a58c-c6c7e385422a",
   "metadata": {},
   "outputs": [
    {
     "name": "stdout",
     "output_type": "stream",
     "text": [
      "Test istatistiği = 89.5000 \n",
      "p-value= 0.000000095580\n"
     ]
    }
   ],
   "source": [
    "print(\"Test istatistiği = %.4f \\np-value= %.12f\" %(istatistic,pvalue_))"
   ]
  },
  {
   "cell_type": "markdown",
   "id": "2668d744-ebd5-4e3b-b8e6-17e306e6e400",
   "metadata": {},
   "source": [
    "**Nonparametrik yaklaşımla da anlamlı bir fark vardır sonucuna varılmıştır.**"
   ]
  }
 ],
 "metadata": {
  "kernelspec": {
   "display_name": "Python 3 (ipykernel)",
   "language": "python",
   "name": "python3"
  },
  "language_info": {
   "codemirror_mode": {
    "name": "ipython",
    "version": 3
   },
   "file_extension": ".py",
   "mimetype": "text/x-python",
   "name": "python",
   "nbconvert_exporter": "python",
   "pygments_lexer": "ipython3",
   "version": "3.11.7"
  }
 },
 "nbformat": 4,
 "nbformat_minor": 5
}
