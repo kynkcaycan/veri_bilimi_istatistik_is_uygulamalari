{
 "cells": [
  {
   "cell_type": "markdown",
   "id": "41816a26-07ce-4604-a071-fa678c16be55",
   "metadata": {},
   "source": [
    "# PROBLEM"
   ]
  },
  {
   "cell_type": "markdown",
   "id": "171f19b3-2e29-4873-99f3-327f8a062f0c",
   "metadata": {},
   "source": [
    "## Çeşitli mecralarda reklam veriliyor, reklamların tıklanma ve geri dönüşüm oranları optimize edilmeye çalışılıyor. Buna yönelik olarak belirli bir mecrada çeşitli senaryolara göre reklama tıklanma olasılıkları hesaplanmak isteniyor."
   ]
  },
  {
   "cell_type": "markdown",
   "id": "6545a5c8-ecb4-40ca-b01e-c2f73818b9df",
   "metadata": {},
   "source": [
    "* Bir mecrada reklam verilecek\n",
    "* Dağılım ve reklama tıklanma olasılığı biliniyor(0.01)\n",
    "* Soru: Reklamı 100 kişi gördüğünde 1,5,10 tıklanma olasılıkları nedir?"
   ]
  },
  {
   "cell_type": "code",
   "execution_count": 6,
   "id": "4eb768e1-be16-465a-aed5-c61cb53db8a5",
   "metadata": {},
   "outputs": [],
   "source": [
    "from scipy.stats import binom"
   ]
  },
  {
   "cell_type": "code",
   "execution_count": 7,
   "id": "469fa89e-d45c-4d6f-b881-73d2127efe21",
   "metadata": {},
   "outputs": [
    {
     "name": "stdout",
     "output_type": "stream",
     "text": [
      "0.36972963764972666\n",
      "0.002897787123761478\n",
      "7.006035693977194e-08\n"
     ]
    }
   ],
   "source": [
    "p=0.01\n",
    "n=100\n",
    "rv=binom(n,p)\n",
    "print(rv.pmf(1))\n",
    "print(rv.pmf(5))\n",
    "print(rv.pmf(10))\n"
   ]
  }
 ],
 "metadata": {
  "kernelspec": {
   "display_name": "Python 3 (ipykernel)",
   "language": "python",
   "name": "python3"
  },
  "language_info": {
   "codemirror_mode": {
    "name": "ipython",
    "version": 3
   },
   "file_extension": ".py",
   "mimetype": "text/x-python",
   "name": "python",
   "nbconvert_exporter": "python",
   "pygments_lexer": "ipython3",
   "version": "3.11.7"
  }
 },
 "nbformat": 4,
 "nbformat_minor": 5
}
