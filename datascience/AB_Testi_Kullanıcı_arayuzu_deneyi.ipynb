{
 "cells": [
  {
   "cell_type": "markdown",
   "id": "9f41c921-640a-4608-ad95-5e6d3dd84eb2",
   "metadata": {},
   "source": [
    "# PROBLEM"
   ]
  },
  {
   "cell_type": "markdown",
   "id": "be62a7f2-c563-488f-a554-94a080d244a4",
   "metadata": {},
   "source": [
    "## Bir website için buton renginin kırmızı ya da yeşil seçenekler arasından biri olarak seçilmesi isteniyor."
   ]
  },
  {
   "cell_type": "markdown",
   "id": "f6378131-f6f0-4d06-9a9d-fd04ee58735d",
   "metadata": {},
   "source": [
    "Yeşil button ile alınan veriler;\n",
    "* 1000 görüntülenme\n",
    "* 300 tıklanma\n",
    "  \n",
    "Kırmızı buton ile alınan veriler\n",
    "* 1100 görüntülenme\n",
    "* 250 tıklanma\n",
    " "
   ]
  },
  {
   "cell_type": "markdown",
   "id": "fd84cccf-eb71-4ed7-a904-f1ad7f0ca846",
   "metadata": {},
   "source": [
    "## Varsayımlar \n",
    "* n1>30\n",
    "* n2>30\n",
    "  \n",
    "**Örneklemler 30'dan büyük olduğundan varsayımlar sağlanmıştır.**"
   ]
  },
  {
   "cell_type": "code",
   "execution_count": 11,
   "id": "9c925537-99e2-4956-96e8-3da522b507b5",
   "metadata": {},
   "outputs": [],
   "source": [
    "from statsmodels.stats.proportion import proportions_ztest"
   ]
  },
  {
   "cell_type": "code",
   "execution_count": 12,
   "id": "50a62082-1e17-44d0-9581-741862c41071",
   "metadata": {},
   "outputs": [],
   "source": [
    "import numpy as np\n",
    "basari_sayilari=np.array([300,250])\n",
    "gozlem_sayilari=np.array([1000,1100])"
   ]
  },
  {
   "cell_type": "code",
   "execution_count": 13,
   "id": "78b7d98b-1bb9-49a3-b718-39ce67cf294c",
   "metadata": {},
   "outputs": [
    {
     "data": {
      "text/plain": [
       "(3.7857863233209255, 0.0001532232957772221)"
      ]
     },
     "execution_count": 13,
     "metadata": {},
     "output_type": "execute_result"
    }
   ],
   "source": [
    "proportions_ztest(count=basari_sayilari,nobs=gozlem_sayilari)"
   ]
  },
  {
   "cell_type": "markdown",
   "id": "67da7531-0f3d-4a7a-8cab-4f1099578965",
   "metadata": {},
   "source": [
    "**İki örnek oranının arasında anlamlı bir farklılık vardır. Bu sebep ile yeşil buton seçilir.**"
   ]
  }
 ],
 "metadata": {
  "kernelspec": {
   "display_name": "Python 3 (ipykernel)",
   "language": "python",
   "name": "python3"
  },
  "language_info": {
   "codemirror_mode": {
    "name": "ipython",
    "version": 3
   },
   "file_extension": ".py",
   "mimetype": "text/x-python",
   "name": "python",
   "nbconvert_exporter": "python",
   "pygments_lexer": "ipython3",
   "version": "3.11.7"
  }
 },
 "nbformat": 4,
 "nbformat_minor": 5
}
